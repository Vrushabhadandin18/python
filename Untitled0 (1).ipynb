{
  "nbformat": 4,
  "nbformat_minor": 0,
  "metadata": {
    "colab": {
      "provenance": []
    },
    "kernelspec": {
      "name": "python3",
      "display_name": "Python 3"
    },
    "language_info": {
      "name": "python"
    }
  },
  "cells": [
    {
      "cell_type": "code",
      "execution_count": null,
      "metadata": {
        "id": "SyrFkvQ1xyty"
      },
      "outputs": [],
      "source": []
    },
    {
      "cell_type": "markdown",
      "source": [],
      "metadata": {
        "id": "0_i7uTnd0NrL"
      }
    },
    {
      "cell_type": "markdown",
      "source": [
        "- hello"
      ],
      "metadata": {
        "id": "--W-bSz31UW7"
      }
    },
    {
      "cell_type": "code",
      "source": [],
      "metadata": {
        "id": "AYy2cGZc1ddz"
      },
      "execution_count": null,
      "outputs": []
    },
    {
      "cell_type": "code",
      "source": [
        "name = \"abhi\"\n",
        "print(\"name\",name)"
      ],
      "metadata": {
        "colab": {
          "base_uri": "https://localhost:8080/"
        },
        "id": "OKuv0yd4_Qzr",
        "outputId": "81402be6-89b8-400f-af90-9b4a5b470c76"
      },
      "execution_count": null,
      "outputs": [
        {
          "output_type": "stream",
          "name": "stdout",
          "text": [
            "name abhi\n"
          ]
        }
      ]
    },
    {
      "cell_type": "markdown",
      "source": [
        "basic syntax rules\n"
      ],
      "metadata": {
        "id": "UVq8XiHyHxRc"
      }
    },
    {
      "cell_type": "code",
      "source": [
        "print(\"hello world\") #function call\n",
        "x = 5 #variable assignment\n",
        "y = 10"
      ],
      "metadata": {
        "colab": {
          "base_uri": "https://localhost:8080/"
        },
        "id": "-JI6tuPnGZL0",
        "outputId": "09bd83eb-827b-494d-c2c2-eeb319d3b28e"
      },
      "execution_count": null,
      "outputs": [
        {
          "output_type": "stream",
          "name": "stdout",
          "text": [
            "hello world\n"
          ]
        }
      ]
    },
    {
      "cell_type": "markdown",
      "source": [
        "numeric types"
      ],
      "metadata": {
        "id": "HzgvQd4iKNAc"
      }
    },
    {
      "cell_type": "code",
      "source": [
        "age = 25\n",
        "height = 5.9\n",
        "complex_num = 2 + 4j"
      ],
      "metadata": {
        "id": "BLayp36RJ_-c"
      },
      "execution_count": null,
      "outputs": []
    },
    {
      "cell_type": "markdown",
      "source": [
        "string type"
      ],
      "metadata": {
        "id": "-pQ1NgPqKq5E"
      }
    },
    {
      "cell_type": "code",
      "source": [
        "name =\"alice\"\n",
        "message =\"hello world\""
      ],
      "metadata": {
        "id": "td6Dhn2BKtPE"
      },
      "execution_count": null,
      "outputs": []
    },
    {
      "cell_type": "markdown",
      "source": [
        "boolean type"
      ],
      "metadata": {
        "id": "y0JjEY3uNdRd"
      }
    },
    {
      "cell_type": "markdown",
      "source": [
        "type checking"
      ],
      "metadata": {
        "id": "q6F-B6syNp-V"
      }
    },
    {
      "cell_type": "code",
      "source": [
        "print(type(age))\n",
        "print(type(height))\n",
        "print(type(name))"
      ],
      "metadata": {
        "id": "I5g_-H0qNwrV"
      },
      "execution_count": null,
      "outputs": []
    },
    {
      "cell_type": "markdown",
      "source": [
        "type(age)"
      ],
      "metadata": {
        "id": "P3LNRqEyOEkW"
      }
    },
    {
      "cell_type": "code",
      "source": [
        "int"
      ],
      "metadata": {
        "colab": {
          "base_uri": "https://localhost:8080/"
        },
        "id": "pmETUJzgOI39",
        "outputId": "dd65e590-09a4-4b1a-dc96-64e623c64000"
      },
      "execution_count": null,
      "outputs": [
        {
          "output_type": "execute_result",
          "data": {
            "text/plain": [
              "int"
            ]
          },
          "metadata": {},
          "execution_count": 32
        }
      ]
    },
    {
      "cell_type": "markdown",
      "source": [
        "type conversion"
      ],
      "metadata": {
        "id": "dSt1H0jiOT29"
      }
    },
    {
      "cell_type": "code",
      "source": [
        "str_number = \"123\"\n",
        "int_number = int(str_number)\n",
        "float_number = float(str_number)\n",
        "print(f\"orignal: {str_number} (type: {type(str_number)})\")\n",
        "print(f\"orignal: {int_number} (type: {type(int_number)})\")\n",
        "print(f\"orignal: {float_number} (type: {type(float_number)})\")"
      ],
      "metadata": {
        "colab": {
          "base_uri": "https://localhost:8080/"
        },
        "id": "rtk50nM7ObGN",
        "outputId": "3a28f004-56e1-4078-ea20-7d98c2be6444"
      },
      "execution_count": null,
      "outputs": [
        {
          "output_type": "stream",
          "name": "stdout",
          "text": [
            "orignal: 123 (type: <class 'str'>)\n",
            "orignal: 123 (type: <class 'int'>)\n",
            "orignal: 123.0 (type: <class 'float'>)\n"
          ]
        }
      ]
    },
    {
      "cell_type": "markdown",
      "source": [
        "personal infomartion\n"
      ],
      "metadata": {
        "id": "G-CXNTvIh5ud"
      }
    },
    {
      "cell_type": "code",
      "source": [
        "first_name = \"vrushabh\"\n",
        "last_name = \"dandin\"\n",
        "age = 22\n",
        "height = 5.9\n",
        "is_student = True"
      ],
      "metadata": {
        "id": "1n1lW2NziAKl"
      },
      "execution_count": null,
      "outputs": []
    },
    {
      "cell_type": "markdown",
      "source": [
        "print formated information"
      ],
      "metadata": {
        "id": "rl_72biZil0d"
      }
    },
    {
      "cell_type": "code",
      "source": [
        "print(f\"Name: {first_name} {last_name}\")\n",
        "print(f\"Age: {age}\")\n",
        "print(f\"Height: {height}\")\n",
        "print(f\"Is Student: {is_student}\")"
      ],
      "metadata": {
        "colab": {
          "base_uri": "https://localhost:8080/"
        },
        "id": "POZMuSxcitWF",
        "outputId": "6ba76a00-9566-42b5-c036-1f2a986c1046"
      },
      "execution_count": null,
      "outputs": [
        {
          "output_type": "stream",
          "name": "stdout",
          "text": [
            "Name: vrushabh dandin\n",
            "Age: 22\n",
            "Height: 5.9\n",
            "Is Student: True\n"
          ]
        }
      ]
    },
    {
      "cell_type": "markdown",
      "source": [
        "typr conversion"
      ],
      "metadata": {
        "id": "wBaMmCPzk572"
      }
    },
    {
      "cell_type": "code",
      "source": [
        "age_str = str(age)\n",
        "height_int = int(height)\n",
        "print(f\"Age as string: {age_str}\")\n",
        "print(f\"Height as integer: {height_int}\")"
      ],
      "metadata": {
        "colab": {
          "base_uri": "https://localhost:8080/"
        },
        "id": "kaXwxLh_lBsW",
        "outputId": "b76960c9-a763-4f37-ca54-7494c1c2dc63"
      },
      "execution_count": null,
      "outputs": [
        {
          "output_type": "stream",
          "name": "stdout",
          "text": [
            "Age as string: 22\n",
            "Height as integer: 5\n"
          ]
        }
      ]
    },
    {
      "cell_type": "markdown",
      "source": [
        "operator and basic operations"
      ],
      "metadata": {
        "id": "7WogwpMymDkO"
      }
    },
    {
      "cell_type": "markdown",
      "source": [
        "arithmetic *operators*"
      ],
      "metadata": {
        "id": "C-uPoP56mga1"
      }
    },
    {
      "cell_type": "code",
      "source": [
        "a = 10\n",
        "b = 5\n",
        "print(f\"Addition: {a} + {b} = {a + b}\")\n",
        "print(f\"Subtraction: {a} - {b} = {a - b}\")\n",
        "print(f\"Multiplication: {a} * {b} = {a * b}\")\n",
        "print(f\"Division: {a} / {b} = {a / b}\")\n",
        "print(f\"Floor Division: {a} // {b} = {a // b}\")\n",
        "print(f\"Modulus: {a} % {b} = {a % b}\")\n"
      ],
      "metadata": {
        "colab": {
          "base_uri": "https://localhost:8080/"
        },
        "id": "XLVDDbCpmmte",
        "outputId": "d587cfbf-d187-4d8a-ff66-d50f0a0c611f"
      },
      "execution_count": null,
      "outputs": [
        {
          "output_type": "stream",
          "name": "stdout",
          "text": [
            "Addition: 10 + 5 = 15\n",
            "Subtraction: 10 - 5 = 5\n",
            "Multiplication: 10 * 5 = 50\n",
            "Division: 10 / 5 = 2.0\n",
            "Floor Division: 10 // 5 = 2\n",
            "Modulus: 10 % 5 = 0\n"
          ]
        }
      ]
    },
    {
      "cell_type": "markdown",
      "source": [
        "order and operations\n",
        "- p-parenthess\n",
        "- E-exponents\n",
        "- m-multiplication\n",
        "- D-division\n",
        "- A-addition\n",
        "- s-substraction"
      ],
      "metadata": {
        "id": "BTLJnefIn93m"
      }
    },
    {
      "cell_type": "code",
      "source": [
        "result = 2 + 3 * 4 ** 2 - 1\n",
        "print(f\"2 + 3 * 4 ** 2 - 1 = {result}\")"
      ],
      "metadata": {
        "colab": {
          "base_uri": "https://localhost:8080/"
        },
        "id": "b60eZ9WYpD5W",
        "outputId": "feb94ee7-1031-46d3-9f41-40f49c3fd8d6"
      },
      "execution_count": null,
      "outputs": [
        {
          "output_type": "stream",
          "name": "stdout",
          "text": [
            "2 + 3 * 4 ** 2 - 1 = 49\n"
          ]
        }
      ]
    },
    {
      "cell_type": "code",
      "source": [
        "print(f\"{x} == {y}: {x == y}\")\n",
        "print(f\"{x} != {y}: {x != y}\")\n",
        "print(f\"{x} > {y}: {x > y}\")\n",
        "print(f\"{x} < {y}: {x < y}\")\n",
        "print(f\"{x} >= {y}: {x >= y}\")\n",
        "print(f\"{x} <= {y}: {x <= y}\")"
      ],
      "metadata": {
        "colab": {
          "base_uri": "https://localhost:8080/"
        },
        "id": "9jGW5bYrtQwO",
        "outputId": "a35a50bd-64d4-45b8-fa24-80c3b20465bb"
      },
      "execution_count": null,
      "outputs": [
        {
          "output_type": "stream",
          "name": "stdout",
          "text": [
            "5 == 10: False\n",
            "5 != 10: True\n",
            "5 > 10: False\n",
            "5 < 10: True\n",
            "5 >= 10: False\n",
            "5 <= 10: True\n"
          ]
        }
      ]
    },
    {
      "cell_type": "markdown",
      "source": [
        "string operation"
      ],
      "metadata": {
        "id": "IuucJQait4X_"
      }
    },
    {
      "cell_type": "code",
      "source": [
        "name1 = \"alice\"\n",
        "name2 = \"bob\"\n",
        "print(f\"{name1}' < '{name2}: {name1 < name2}\")\n",
        "print(f\"{name1}' > '{name2}: {name1 > name2}\")"
      ],
      "metadata": {
        "colab": {
          "base_uri": "https://localhost:8080/"
        },
        "id": "Khrha4fdt9sW",
        "outputId": "8136ce79-ea80-4165-d445-eca33836f867"
      },
      "execution_count": null,
      "outputs": [
        {
          "output_type": "stream",
          "name": "stdout",
          "text": [
            "alice' < 'bob: True\n",
            "alice' > 'bob: False\n"
          ]
        }
      ]
    },
    {
      "cell_type": "markdown",
      "source": [
        "logical operators"
      ],
      "metadata": {
        "id": "uOPwrAmrvC8H"
      }
    },
    {
      "cell_type": "code",
      "source": [
        "p = True\n",
        "q = False\n",
        "print(f\"p and q: {p and q}\")\n",
        "print(f\"p or q: {p or q}\")\n",
        "print(f\"not p: {not p}\")"
      ],
      "metadata": {
        "colab": {
          "base_uri": "https://localhost:8080/"
        },
        "id": "mnh_hJKCvGaW",
        "outputId": "0f87df05-925c-4638-d0b2-2e7dfcfead31"
      },
      "execution_count": null,
      "outputs": [
        {
          "output_type": "stream",
          "name": "stdout",
          "text": [
            "p and q: False\n",
            "p or q: True\n",
            "not p: False\n"
          ]
        }
      ]
    },
    {
      "cell_type": "code",
      "source": [
        "# practical examples\n",
        "age = 20\n",
        "has_license = True\n",
        "can_drive = age >= 18 and has_license\n",
        "print(f\"Can Drive: {can_drive}\")"
      ],
      "metadata": {
        "colab": {
          "base_uri": "https://localhost:8080/"
        },
        "id": "4rDUkecKwRPO",
        "outputId": "61e89ed8-bd0a-481a-fecf-3375d2adb041"
      },
      "execution_count": null,
      "outputs": [
        {
          "output_type": "stream",
          "name": "stdout",
          "text": [
            "Can Drive: True\n"
          ]
        }
      ]
    },
    {
      "cell_type": "code",
      "source": [
        "# multiple conditions\n",
        "score = 85\n",
        "is_present = True\n",
        "can_pass = score >= 80 or is_present\n",
        "print(f\"Can Pass: {can_pass}\")"
      ],
      "metadata": {
        "colab": {
          "base_uri": "https://localhost:8080/"
        },
        "id": "4Gn31qYYwnW2",
        "outputId": "7e05da16-cb75-4ffb-e848-eec7d773b98a"
      },
      "execution_count": null,
      "outputs": [
        {
          "output_type": "stream",
          "name": "stdout",
          "text": [
            "Can Pass: True\n"
          ]
        }
      ]
    },
    {
      "cell_type": "markdown",
      "source": [
        "create a calculator the checks if a preson qulifiers foe a loan"
      ],
      "metadata": {
        "id": "i6CksFQfyxLP"
      }
    },
    {
      "cell_type": "code",
      "source": [
        "# personal information\n",
        "age = 25\n",
        "annual_income = 5000\n",
        "credit_score = 720\n",
        "has_collateral = True\n"
      ],
      "metadata": {
        "id": "FMt5zg3ny902"
      },
      "execution_count": null,
      "outputs": []
    },
    {
      "cell_type": "code",
      "source": [
        "# loan criteria\n",
        "min_age = 21\n",
        "min_income = 30000\n",
        "min_credit_score = 650"
      ],
      "metadata": {
        "id": "3Xl8rmLozVeG"
      },
      "execution_count": null,
      "outputs": []
    },
    {
      "cell_type": "code",
      "source": [
        "#check qualification\n",
        "age_qulified = age >= min_age\n",
        "income_qulified = annual_income >= min_income\n",
        "credit_score_qulified = credit_score >= min_credit_score\n",
        "overall_qualified = age_qualified and income_qualified and credit_qualified"
      ],
      "metadata": {
        "collapsed": true,
        "id": "LSYoPi8q3LvQ"
      },
      "execution_count": null,
      "outputs": []
    },
    {
      "cell_type": "code",
      "source": [
        "print(\"=== loan qualification ===\")\n",
        "print(f\"age qualified: {age_qulified}\")\n",
        "print(f\"income qualified: {income_qulified}\")\n",
        "\n"
      ],
      "metadata": {
        "colab": {
          "base_uri": "https://localhost:8080/"
        },
        "id": "RjUB2OVe4JGf",
        "outputId": "2b9be5a5-ed40-4957-ac21-07b34074b9de"
      },
      "execution_count": null,
      "outputs": [
        {
          "output_type": "stream",
          "name": "stdout",
          "text": [
            "=== loan qualification ===\n",
            "age qualified: True\n",
            "income qualified: False\n"
          ]
        }
      ]
    },
    {
      "cell_type": "markdown",
      "source": [
        "data structure\n"
      ],
      "metadata": {
        "id": "5wKRgSha-4x_"
      }
    },
    {
      "cell_type": "code",
      "source": [
        "fruits = [\"apple\",\"bananna\",\"orange\",\"grapes\"]\n",
        "numbers = [10,20,30,40,50]\n",
        "mixed_data = [1,\"hello\",3.14,True]"
      ],
      "metadata": {
        "id": "BKExcCTv-_ko"
      },
      "execution_count": null,
      "outputs": []
    },
    {
      "cell_type": "code",
      "source": [
        "print(f\"fruits: {fruits[0]}\")\n",
        "print(f\"Last fruit: {fruits[-1]}\")\n",
        "print(f\"second to last: {fruits[-2]}\")"
      ],
      "metadata": {
        "colab": {
          "base_uri": "https://localhost:8080/"
        },
        "id": "kVKFrlJW_l7Y",
        "outputId": "601bbcb3-f9b3-4d94-aa8f-80e33907dd87"
      },
      "execution_count": null,
      "outputs": [
        {
          "output_type": "stream",
          "name": "stdout",
          "text": [
            "fruits: apple\n",
            "Last fruit: grapes\n",
            "second to last: orange\n"
          ]
        }
      ]
    },
    {
      "cell_type": "code",
      "source": [
        "print(f\"first 2 fruits: {fruits[0:2]}\")\n",
        "print(f\"last 2 fruits: {fruits[-2:]}\")\n",
        "print(f\"all execpt first {fruits[1:]}\")"
      ],
      "metadata": {
        "colab": {
          "base_uri": "https://localhost:8080/"
        },
        "id": "Mcf1JS0-ADC4",
        "outputId": "1a38c164-cd3f-4669-8294-e9087aa4ce35"
      },
      "execution_count": null,
      "outputs": [
        {
          "output_type": "stream",
          "name": "stdout",
          "text": [
            "first 2 fruits: ['apple', 'bananna']\n",
            "last 2 fruits: ['orange', 'grapes']\n",
            "all execpt first ['bananna', 'orange', 'grapes']\n"
          ]
        }
      ]
    },
    {
      "cell_type": "markdown",
      "source": [
        "list methods"
      ],
      "metadata": {
        "id": "6pJlNBBQB4c4"
      }
    },
    {
      "cell_type": "code",
      "source": [
        "fruits.append(\"kiwi\")\n",
        "fruits.insert(1,\"strawbery\")\n",
        "removed = fruits.pop()\n",
        "print(f\"update list: {fruits}\")\n",
        "print(f\"removed: {removed}\")"
      ],
      "metadata": {
        "colab": {
          "base_uri": "https://localhost:8080/"
        },
        "id": "O5eJ2fEpCEBo",
        "outputId": "26a6692a-d7b4-487f-df66-9158cf92c595"
      },
      "execution_count": null,
      "outputs": [
        {
          "output_type": "stream",
          "name": "stdout",
          "text": [
            "update list: ['apple', 'strawbery', 'bananna', 'orange', 'grapes']\n",
            "removed: kiwi\n"
          ]
        }
      ]
    },
    {
      "cell_type": "code",
      "source": [
        "print(f\"Length: {len(fruits)}\")\n",
        "print(f\"contains 'apple': {'apple' in fruits}\")\n",
        "print(f\"Index of 'bananna': {fruits.index('bananna')}\")"
      ],
      "metadata": {
        "colab": {
          "base_uri": "https://localhost:8080/"
        },
        "id": "mBnbY2t6Cu6g",
        "outputId": "e69e2500-a6b9-47ca-ebe3-8a6c58ec66de"
      },
      "execution_count": null,
      "outputs": [
        {
          "output_type": "stream",
          "name": "stdout",
          "text": [
            "Length: 5\n",
            "contains 'apple': True\n",
            "Index of 'bananna': 2\n"
          ]
        }
      ]
    },
    {
      "cell_type": "markdown",
      "source": [
        "tupels"
      ],
      "metadata": {
        "id": "njDTyK78DX04"
      }
    },
    {
      "cell_type": "code",
      "source": [
        "coordinates = (10,20)\n",
        "rgb_color = (255,128,0)\n",
        "person_info = (\"alice\",34,\"bca\",True)"
      ],
      "metadata": {
        "id": "s4GilxoADZfI"
      },
      "execution_count": null,
      "outputs": []
    },
    {
      "cell_type": "markdown",
      "source": [
        "tuple unpacking"
      ],
      "metadata": {
        "id": "jR-24p7sEgIA"
      }
    },
    {
      "cell_type": "code",
      "source": [
        "x, y = coordinates\n",
        "print(f\"X: {x}, Y: {y}\")"
      ],
      "metadata": {
        "colab": {
          "base_uri": "https://localhost:8080/"
        },
        "id": "5kd9HRE9Ej2Y",
        "outputId": "1bf3a771-05e6-4b0b-e60a-970db2816711"
      },
      "execution_count": null,
      "outputs": [
        {
          "output_type": "stream",
          "name": "stdout",
          "text": [
            "X: 10, Y: 20\n"
          ]
        }
      ]
    },
    {
      "cell_type": "markdown",
      "source": [
        "tuple methods\n"
      ],
      "metadata": {
        "id": "HFjonYOpFiH4"
      }
    },
    {
      "cell_type": "code",
      "source": [
        "print(f\"count of 25: {person_info.count(25)}\")\n",
        "print(f\"Index of 'bca': {person_info.index('bca')}\")"
      ],
      "metadata": {
        "colab": {
          "base_uri": "https://localhost:8080/"
        },
        "id": "hDsHNHmpFknJ",
        "outputId": "bb0bf475-3361-4406-9725-3c8674335e65"
      },
      "execution_count": null,
      "outputs": [
        {
          "output_type": "stream",
          "name": "stdout",
          "text": [
            "count of 25: 0\n",
            "Index of 'bca': 2\n"
          ]
        }
      ]
    }
  ]
}